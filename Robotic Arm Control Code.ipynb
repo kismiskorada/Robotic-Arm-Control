{
 "cells": [
  {
   "cell_type": "markdown",
   "id": "9b59770a",
   "metadata": {},
   "source": [
    "# EET 4501 Applied Machine learning \n",
    "\n",
    "## Assignment 7 –   KNN and Linear Regression for Robotic Arm Control\n"
   ]
  },
  {
   "cell_type": "markdown",
   "id": "158edf8c",
   "metadata": {},
   "source": [
    "### In this assignment, you will use two different algorithms, linear regression and KNN, to build a inverse kinematic machine learning-based model. The model will obtain the joint angles (q1, ..., q6) of a robot arm based on a given end-effector position (x,y,z).\n",
    "#### Implementation Steps:\n",
    "    1) Load the provided dataset.\n",
    "    2) Get familiar with the data (identify the columns of the joint angles and the space-coordinate).\n",
    "    3) Split the data in training and testing.\n",
    "    4) Use linear regression algorithm to train a model for inverse kinematics (to predict the join angles based on the space-coordinates), feel free to use the algorithms provided by libraries such as Sklearn.\n",
    "    5) Predict over the testing dataset.\n",
    "    6) Measure the performance of the linear regression algorithm for inverse kinematics using the following metrics: MSE, RMSE, and MAE. This should be done over the unseen dataset (testing). Feel free to use the functions provided by libraries such as Sklearn.\n",
    "    7) Repeat steps 4) - 6) using KNN algorithm for regression.\n",
    "    8) Compare both performances and provide a conclusion about which algorithm perform better for this particular task."
   ]
  },
  {
   "cell_type": "markdown",
   "id": "e1dfd678",
   "metadata": {},
   "source": [
    "Here is a suggested template for this assigment, feel free to modify it to complete the tasks"
   ]
  },
  {
   "cell_type": "code",
   "execution_count": 1,
   "id": "6a9c8a16",
   "metadata": {},
   "outputs": [],
   "source": [
    "##Import libraries\n",
    "import numpy as np\n",
    "from sklearn.preprocessing import MinMaxScaler\n",
    "from sklearn.model_selection import train_test_split\n",
    "\n",
    "##Import ML algorithm functions (from sklearn....    )\n",
    "from sklearn.linear_model import Ridge\n",
    "from sklearn.neighbors import KNeighborsRegressor\n",
    "\n",
    "##Import the functions to meassure the performance (from sklearn.... )\n",
    "from sklearn.metrics import mean_squared_error, mean_absolute_error, r2_score"
   ]
  },
  {
   "cell_type": "code",
   "execution_count": 2,
   "id": "ec497c85",
   "metadata": {},
   "outputs": [
    {
     "name": "stdout",
     "output_type": "stream",
     "text": [
      "(15000, 9)\n",
      "<class 'numpy.ndarray'>\n"
     ]
    }
   ],
   "source": [
    "## loading the dataset using the numpy library\n",
    "data = np.loadtxt(\"robot_inverse_kinematics_dataset.csv\", skiprows=1, delimiter=',')\n",
    "print(data.shape)\n",
    "print(type(data))"
   ]
  },
  {
   "cell_type": "markdown",
   "id": "f0228228-82c7-4095-950b-86d49ae48af8",
   "metadata": {},
   "source": [
    "The dataset has been successfully loaded. It contains 15,000 samples and 9 columns in total. The data is stored in a NumPy ndarray."
   ]
  },
  {
   "cell_type": "code",
   "execution_count": 3,
   "id": "ae361e1f",
   "metadata": {},
   "outputs": [
    {
     "name": "stdout",
     "output_type": "stream",
     "text": [
      "[[-1.51    -0.763    1.85    ... -0.0947   0.15     0.301  ]\n",
      " [-2.84     0.52     1.58    ...  0.142   -0.1      0.225  ]\n",
      " [-1.23     0.695    1.22    ... -0.0833   0.223    0.206  ]\n",
      " ...\n",
      " [ 2.62     1.41     1.56    ...  0.131   -0.16     0.362  ]\n",
      " [-1.89     1.85     1.51    ...  0.0829  -0.016    0.441  ]\n",
      " [ 2.68    -1.79     1.79    ... -0.157   -0.00369  0.254  ]]\n"
     ]
    }
   ],
   "source": [
    "## Check the values of data\n",
    "print(data)"
   ]
  },
  {
   "cell_type": "code",
   "execution_count": 38,
   "id": "f7d8cfe8",
   "metadata": {},
   "outputs": [
    {
     "data": {
      "text/plain": [
       "(array([[-0.0947,  0.15  ,  0.301 ],\n",
       "        [ 0.142 , -0.1   ,  0.225 ],\n",
       "        [-0.0833,  0.223 ,  0.206 ],\n",
       "        [ 0.135 , -0.0314,  0.37  ],\n",
       "        [-0.056 , -0.229 ,  0.26  ]]),\n",
       " array([[-1.51  , -0.763 ,  1.85  , -0.817 ,  0.912 ,  2.32  ],\n",
       "        [-2.84  ,  0.52  ,  1.58  , -1.27  , -1.39  ,  0.617 ],\n",
       "        [-1.23  ,  0.695 ,  1.22  , -1.13  ,  0.0343,  6.27  ],\n",
       "        [-1.99  ,  1.06  ,  1.74  , -1.76  , -1.24  ,  4.76  ],\n",
       "        [ 1.05  ,  0.836 ,  1.34  , -1.89  ,  0.484 ,  4.38  ]]))"
      ]
     },
     "execution_count": 38,
     "metadata": {},
     "output_type": "execute_result"
    }
   ],
   "source": [
    "# Split the input and output variables\n",
    "\n",
    "# Split the input  and output  variables\n",
    "y = data[:, :6]   # First six columns are the joint angles (q1, ..., q6)\n",
    "X = data[:, 6:]   # Last three columns are the space coordinates (x, y, z)\n",
    "\n",
    "\n",
    "X[:5], y[:5]  # Display the first 5 rows of the split data to confirm correctness\n"
   ]
  },
  {
   "cell_type": "code",
   "execution_count": 33,
   "id": "58b5e6db-7081-4275-8e95-e063af09133e",
   "metadata": {},
   "outputs": [
    {
     "name": "stdout",
     "output_type": "stream",
     "text": [
      "Shape of input variables (joint angles): (15000, 6)\n",
      "Shape of output variables (space co-ordinates): (15000, 3)\n"
     ]
    }
   ],
   "source": [
    "# Print the shapes of input and output variables\n",
    "print(\"Shape of input variables (joint angles):\", X.shape)\n",
    "print(\"Shape of output variables (space co-ordinates):\", y.shape)"
   ]
  },
  {
   "cell_type": "code",
   "execution_count": 35,
   "id": "30c46cfe",
   "metadata": {},
   "outputs": [
    {
     "name": "stdout",
     "output_type": "stream",
     "text": [
      "Shape of X_train (training set): (12000, 6)\n",
      "Shape of X_val (validation set): (3000, 6)\n",
      "Shape of y_train (training set): (12000, 3)\n",
      "Shape of y_val (validation set): (3000, 3)\n"
     ]
    }
   ],
   "source": [
    "# Split data into training and validation sets (suggested ration 8:2, suggested random_state=42)\n",
    "\n",
    "# Using the provided ratio 8:2 and random_state for reproducibility.\n",
    "\n",
    "# Split the data into training and validation sets\n",
    "X_train, X_val, y_train, y_val = train_test_split(X, y, test_size=0.2, random_state=42)\n",
    "\n",
    "# Print the shapes of input and output variables for confirmation\n",
    "print(\"Shape of X_train (training set):\", X_train.shape)\n",
    "print(\"Shape of X_val (validation set):\", X_val.shape)\n",
    "print(\"Shape of y_train (training set):\", y_train.shape)\n",
    "print(\"Shape of y_val (validation set):\", y_val.shape)\n",
    "\n"
   ]
  },
  {
   "cell_type": "code",
   "execution_count": 36,
   "id": "398b0e82",
   "metadata": {},
   "outputs": [
    {
     "data": {
      "text/plain": [
       "(array([[0.88888889, 0.42526042, 0.5       , 0.57473118, 0.81818182,\n",
       "         0.64328705],\n",
       "        [0.89236111, 0.42552083, 0.41428571, 0.71326165, 0.67105263,\n",
       "         0.57640337],\n",
       "        [0.61857639, 0.82552083, 0.87142857, 0.55913978, 0.52440191,\n",
       "         0.00094099],\n",
       "        [0.75694444, 0.89322917, 0.52857143, 0.5516129 , 0.57105263,\n",
       "         0.27542683],\n",
       "        [0.22048611, 0.06510417, 0.27142857, 0.56541219, 0.2722488 ,\n",
       "         0.85986277]]),\n",
       " array([[0.77604167, 0.2109375 , 0.35714286, 0.69892473, 0.63684211,\n",
       "         0.49677995],\n",
       "        [0.44201389, 0.17447917, 0.21428571, 0.20967742, 0.49952871,\n",
       "         0.80094144],\n",
       "        [0.68923611, 0.60807292, 0.12857143, 0.40806452, 0.41698565,\n",
       "         0.99203766],\n",
       "        [0.16319444, 0.6859375 , 0.88571429, 0.13978495, 0.74641148,\n",
       "         0.2260603 ],\n",
       "        [0.11805556, 0.97395833, 0.08571429, 0.55806452, 0.83732057,\n",
       "         0.08831177]]))"
      ]
     },
     "execution_count": 36,
     "metadata": {},
     "output_type": "execute_result"
    }
   ],
   "source": [
    "# Normalizing the feature dataset\n",
    "scaler = MinMaxScaler()\n",
    "\n",
    "\n",
    "# Fit the scaler on the training input features\n",
    "scaler.fit(X_train)\n",
    "\n",
    "# Scale the end-effector position on the training and validation splits\n",
    "X_train_scaled = scaler.transform(X_train)\n",
    "X_val_scaled = scaler.transform(X_val)\n",
    "\n",
    "# Print the first 5 rows of the scaled training and validation input features for confirmation\n",
    "X_train_scaled[:5], X_val_scaled[:5]\n",
    "\n"
   ]
  },
  {
   "cell_type": "code",
   "execution_count": 37,
   "id": "8417b8b0",
   "metadata": {},
   "outputs": [
    {
     "name": "stdout",
     "output_type": "stream",
     "text": [
      "Training set shapes:\n",
      "X_train: (12000, 6)\n",
      "y_train: (12000, 3)\n",
      "\n",
      "Validation set shapes:\n",
      "X_val: (3000, 6)\n",
      "y_val: (3000, 3)\n"
     ]
    }
   ],
   "source": [
    "# Print shapes of training and validation sets\n",
    "print('Training set shapes:')\n",
    "print('X_train:', X_train.shape)\n",
    "print('y_train:', y_train.shape)\n",
    "\n",
    "print('\\nValidation set shapes:')\n",
    "print('X_val:', X_val.shape)\n",
    "print('y_val:', y_val.shape)\n"
   ]
  },
  {
   "cell_type": "code",
   "execution_count": 31,
   "id": "659f4af9",
   "metadata": {},
   "outputs": [
    {
     "data": {
      "text/plain": [
       "[{'alpha': 0.1,\n",
       "  'coefficients': array([[ 0.06989146, -2.27235211,  0.12900182],\n",
       "         [-0.26588581, -0.01809895,  2.86859796],\n",
       "         [-0.00328011,  0.01960407,  0.28515394],\n",
       "         [ 0.12168557, -0.10580455, -0.08352363],\n",
       "         [ 0.08927173,  0.08139835,  0.29345433],\n",
       "         [ 0.11165273, -0.11051719,  0.00394079]]),\n",
       "  'intercept': array([ 1.02693479, -1.43576039,  1.40946623,  0.04935932, -0.25033612,\n",
       "          3.1383193 ])},\n",
       " {'alpha': 1.0,\n",
       "  'coefficients': array([[ 0.06976011, -2.26704879,  0.12885581],\n",
       "         [-0.2652858 , -0.01812061,  2.86417116],\n",
       "         [-0.00327559,  0.01955157,  0.28471314],\n",
       "         [ 0.12140005, -0.10555734, -0.08339339],\n",
       "         [ 0.08905613,  0.08119988,  0.2929983 ],\n",
       "         [ 0.11139013, -0.11026089,  0.00393617]]),\n",
       "  'intercept': array([ 1.02445437, -1.43363576,  1.40972995,  0.04930688, -0.24988331,\n",
       "          3.13832448])},\n",
       " {'alpha': 10.0,\n",
       "  'coefficients': array([[ 0.0684715 , -2.21534646,  0.12740696],\n",
       "         [-0.25943348, -0.01832168,  2.82064311],\n",
       "         [-0.00323103,  0.0190408 ,  0.28037906],\n",
       "         [ 0.11861697, -0.10314716, -0.08211309],\n",
       "         [ 0.08695576,  0.07926645,  0.28851497],\n",
       "         [ 0.10883053, -0.10776181,  0.00389043]]),\n",
       "  'intercept': array([ 1.00029041, -1.41272707,  1.4123201 ,  0.04878961, -0.24545001,\n",
       "          3.13837486])}]"
      ]
     },
     "execution_count": 31,
     "metadata": {},
     "output_type": "execute_result"
    }
   ],
   "source": [
    "from sklearn.linear_model import Ridge\n",
    "\n",
    "# Define the Linear Regression (Ridge) model with different values of alpha\n",
    "alphas = [0.1, 1.0, 10.0]  # Explore different values for alpha\n",
    "\n",
    "# Placeholder for model coefficients and intercepts for each alpha\n",
    "model_details = []\n",
    "\n",
    "for alpha in alphas:\n",
    "    # Initialize the Ridge Regression model with the specified alpha\n",
    "    lr_model = Ridge(alpha=alpha)\n",
    "    # Fit the model to the training data\n",
    "    lr_model.fit(X_train_scaled, y_train)\n",
    "    # Store the model coefficients and intercept for this alpha value\n",
    "    model_details.append({\n",
    "        'alpha': alpha,\n",
    "        'coefficients': lr_model.coef_,\n",
    "        'intercept': lr_model.intercept_\n",
    "    })\n",
    "\n",
    "model_details  # This will output the details of the models for each alpha value\n",
    "\n"
   ]
  },
  {
   "cell_type": "code",
   "execution_count": 28,
   "id": "d47bc1fa",
   "metadata": {},
   "outputs": [
    {
     "data": {
      "text/plain": [
       "array([[-0.04159223, -0.73176875,  1.49896148,  0.01947209, -0.092308  ,\n",
       "         3.12708792],\n",
       "       [ 0.09937806, -0.96991688,  1.48066724,  0.06484462, -0.08822742,\n",
       "         3.16488629],\n",
       "       [ 0.59762342, -0.63965953,  1.5002892 ,  0.03802762, -0.11537243,\n",
       "         3.14977522],\n",
       "       [-0.51576202,  0.56480561,  1.63306124, -0.04230211,  0.06082465,\n",
       "         3.10385429],\n",
       "       [ 0.10103787,  0.5089433 ,  1.62615038,  0.00892495,  0.05477481,\n",
       "         3.15412396]])"
      ]
     },
     "execution_count": 28,
     "metadata": {},
     "output_type": "execute_result"
    }
   ],
   "source": [
    "\n",
    "# Predicting with the lr model on the validation dataset\n",
    "y_val_pred = lr_model.predict(X_val_scaled)\n",
    "# Showing the first 5 predictions as an example\n",
    "y_val_pred[:5]\n",
    "\n"
   ]
  },
  {
   "cell_type": "code",
   "execution_count": 29,
   "id": "06509ac3",
   "metadata": {},
   "outputs": [
    {
     "name": "stdout",
     "output_type": "stream",
     "text": [
      "Actual: [ 1.59  -1.11   1.47   1.11   0.572  3.12 ]\n",
      "Predicted: [-0.04159223 -0.73176875  1.49896148  0.01947209 -0.092308    3.12708792] \n",
      "\n",
      "Actual: [-3.34e-01 -1.25e+00  1.37e+00 -1.62e+00 -1.97e-03  5.03e+00]\n",
      "Predicted: [ 0.09937806 -0.96991688  1.48066724  0.06484462 -0.08822742  3.16488629] \n",
      "\n",
      "Actual: [ 1.09   0.415  1.31  -0.513 -0.347  6.23 ]\n",
      "Predicted: [ 0.59762342 -0.63965953  1.5002892   0.03802762 -0.11537243  3.14977522] \n",
      "\n",
      "Actual: [-1.94   0.714  1.84  -2.01   1.03   1.42 ]\n",
      "Predicted: [-0.51576202  0.56480561  1.63306124 -0.04230211  0.06082465  3.10385429] \n",
      "\n",
      "Actual: [-2.2    1.82   1.28   0.324  1.41   0.555]\n",
      "Predicted: [0.10103787 0.5089433  1.62615038 0.00892495 0.05477481 3.15412396] \n",
      "\n"
     ]
    }
   ],
   "source": [
    "## Inspect the values prining some samples of joint-angles (y_test) and the predictions generated by the model (predictions - lr) \n",
    "# Printing the first 5 samples of actual joint angles from the validation set and their predictions\n",
    "for actual, predicted in zip(y_val[:5], y_val_pred[:5]):\n",
    "    print(\"Actual:\", actual)\n",
    "    print(\"Predicted:\", predicted, \"\\n\")"
   ]
  },
  {
   "cell_type": "code",
   "execution_count": 30,
   "id": "880a7341",
   "metadata": {},
   "outputs": [
    {
     "data": {
      "text/plain": [
       "(1.8119182407179608, 1.0517663818873861, 0.08031195176837486)"
      ]
     },
     "execution_count": 30,
     "metadata": {},
     "output_type": "execute_result"
    }
   ],
   "source": [
    "# Calculate the performance metrics - lr\n",
    "from sklearn.metrics import mean_squared_error, mean_absolute_error, r2_score\n",
    "\n",
    "# Calculate performance metrics for the linear regression model on the validation set\n",
    "mse_lr = mean_squared_error(y_val, y_val_pred)\n",
    "mae_lr = mean_absolute_error(y_val, y_val_pred)\n",
    "r2_lr = r2_score(y_val, y_val_pred)\n",
    "\n",
    "# Output the performance metrics\n",
    "mse_lr, mae_lr, r2_lr\n"
   ]
  },
  {
   "cell_type": "code",
   "execution_count": 23,
   "id": "ee2d0f68",
   "metadata": {},
   "outputs": [
    {
     "data": {
      "text/plain": [
       "'KNN model fitting complete.'"
      ]
     },
     "execution_count": 23,
     "metadata": {},
     "output_type": "execute_result"
    }
   ],
   "source": [
    "## Define the KNN regressor model, feel free to explore different values for the hyperparameter k\n",
    "knn_model = KNeighborsRegressor(n_neighbors=5)  # Default value for n_neighbors is 5\n",
    "\n",
    "# Fit the model to the scaled training data\n",
    "knn_model.fit(X_train_scaled, y_train)\n",
    "\n",
    "# Print a message to confirm model fitting\n",
    "\"KNN model fitting complete.\"\n",
    "\n",
    "\n"
   ]
  },
  {
   "cell_type": "code",
   "execution_count": 24,
   "id": "e5bca28b",
   "metadata": {},
   "outputs": [
    {
     "data": {
      "text/plain": [
       "array([[-1.4841972, -1.282    ,  1.75     ,  0.1908   , -0.4302   ,\n",
       "         3.2686   ],\n",
       "       [ 1.9248   , -0.3698   ,  1.482    , -1.4572   ,  0.41076  ,\n",
       "         3.762    ],\n",
       "       [ 0.3232   ,  0.0396   ,  1.35     , -1.0762   ,  0.0645356,\n",
       "         3.364    ],\n",
       "       [-0.5583602,  0.8966   ,  1.61     ,  0.1188   , -0.2506   ,\n",
       "         4.22     ],\n",
       "       [-0.6514   ,  0.6258   ,  1.528    ,  0.7      ,  0.832    ,\n",
       "         2.866    ]])"
      ]
     },
     "execution_count": 24,
     "metadata": {},
     "output_type": "execute_result"
    }
   ],
   "source": [
    " \n",
    "# Predicting with the KNN regressor model on the validation dataset\n",
    "# Remember, we are using the validation set as our \"testing\" dataset in this context\n",
    "y_val_pred_knn = knn_model.predict(X_val_scaled)\n",
    "\n",
    "# Showing the first 5 predictions as an example\n",
    "y_val_pred_knn[:5]\n"
   ]
  },
  {
   "cell_type": "code",
   "execution_count": 25,
   "id": "73f49724",
   "metadata": {},
   "outputs": [
    {
     "name": "stdout",
     "output_type": "stream",
     "text": [
      "Actual: [ 1.59  -1.11   1.47   1.11   0.572  3.12 ]\n",
      "Predicted: [-1.4841972 -1.282      1.75       0.1908    -0.4302     3.2686   ] \n",
      "\n",
      "Actual: [-3.34e-01 -1.25e+00  1.37e+00 -1.62e+00 -1.97e-03  5.03e+00]\n",
      "Predicted: [ 1.9248  -0.3698   1.482   -1.4572   0.41076  3.762  ] \n",
      "\n",
      "Actual: [ 1.09   0.415  1.31  -0.513 -0.347  6.23 ]\n",
      "Predicted: [ 0.3232     0.0396     1.35      -1.0762     0.0645356  3.364    ] \n",
      "\n",
      "Actual: [-1.94   0.714  1.84  -2.01   1.03   1.42 ]\n",
      "Predicted: [-0.5583602  0.8966     1.61       0.1188    -0.2506     4.22     ] \n",
      "\n",
      "Actual: [-2.2    1.82   1.28   0.324  1.41   0.555]\n",
      "Predicted: [-0.6514  0.6258  1.528   0.7     0.832   2.866 ] \n",
      "\n"
     ]
    }
   ],
   "source": [
    "## Inspect the values prining some samples of joint-angles (y_test) and the predictions generated by the model (predictions -knn) \n",
    "# Printing the first 5 samples of actual joint angles from the validation set and their predictions\n",
    "for actual, predicted in zip(y_val[:5], y_val_pred_knn[:5]):\n",
    "    print(\"Actual:\", actual)\n",
    "    print(\"Predicted:\", predicted, \"\\n\")\n"
   ]
  },
  {
   "cell_type": "code",
   "execution_count": 26,
   "id": "b64316b1",
   "metadata": {},
   "outputs": [
    {
     "data": {
      "text/plain": [
       "(2.1087274390968656, 1.0858744975099999, 0.009445302092638386)"
      ]
     },
     "execution_count": 26,
     "metadata": {},
     "output_type": "execute_result"
    }
   ],
   "source": [
    "# Calculate the performance metrics - knn\n",
    "# Calculate performance metrics for the KNN regressor model on the validation set\n",
    "mse_knn = mean_squared_error(y_val, y_val_pred_knn)\n",
    "mae_knn = mean_absolute_error(y_val, y_val_pred_knn)\n",
    "r2_knn = r2_score(y_val, y_val_pred_knn)\n",
    "\n",
    "# Output the performance metrics for KNN\n",
    "mse_knn, mae_knn, r2_knn\n"
   ]
  },
  {
   "cell_type": "code",
   "execution_count": null,
   "id": "93a8100b",
   "metadata": {},
   "outputs": [],
   "source": [
    "# Provide a conclussion of your findings\n",
    "\n"
   ]
  },
  {
   "cell_type": "markdown",
   "id": "b5b1403e",
   "metadata": {},
   "source": [
    "``Here are some useful sources:``\n",
    "\n",
    "    https://scikit-learn.org/stable/modules/generated/sklearn.linear_model.LinearRegression.html\n",
    "    https://scikit-learn.org/stable/modules/generated/sklearn.neighbors.KNeighborsRegressor.html\n",
    "    https://scikit-learn.org/stable/modules/generated/sklearn.metrics.mean_squared_error.html\n",
    "    https://scikit-learn.org/stable/modules/generated/sklearn.metrics.mean_absolute_error.html\n",
    "    https://scikit-learn.org/stable/modules/generated/sklearn.metrics.r2_score.html\n",
    "    "
   ]
  }
 ],
 "metadata": {
  "kernelspec": {
   "display_name": "Python 3 (ipykernel)",
   "language": "python",
   "name": "python3"
  },
  "language_info": {
   "codemirror_mode": {
    "name": "ipython",
    "version": 3
   },
   "file_extension": ".py",
   "mimetype": "text/x-python",
   "name": "python",
   "nbconvert_exporter": "python",
   "pygments_lexer": "ipython3",
   "version": "3.12.2"
  }
 },
 "nbformat": 4,
 "nbformat_minor": 5
}
